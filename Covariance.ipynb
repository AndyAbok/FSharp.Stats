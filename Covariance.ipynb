
        {
            "cells": [
          {
           "cell_type": "code",
           "metadata": {},
            "execution_count": null, "outputs": [], 
           "source": ["#r \"nuget: Plotly.NET, 2.0.0-beta3\"\n",
"#r \"nuget: Plotly.NET.Interactive, 2.0.0-beta3\"\n",
"#r \"nuget: FSharp.Stats\"\n"]
          }
,
          {
           "cell_type": "markdown",
           "metadata": {},
           
           "source": ["#Covariance\n",
"\n",
"[![Binder](https://mybinder.org/badge_logo.svg)](https://mybinder.org/v2/gh/fslaborg/FSharp.Stats/gh-pages?filepath=Covariance\n",
".ipynb)\n",
"\n",
"_Summary:_ This tutorial explains how to investigate the covariance of two samples with FSharp.Stats\n",
"\n",
"Lets first define some sample data:\n"]
          }
,
          {
           "cell_type": "code",
           "metadata": {},
            "execution_count": 3, "outputs": [], 
           "source": ["open FSharp.Stats\n",
"\n",
"let rnd = System.Random()\n",
"let error() = rnd.Next(11)\n",
"\n",
"let sampleA = Vector.init 50 (fun x -\u003e float x)\n",
"let sampleB = Vector.init 50 (fun x -\u003e float (x + error()))\n",
"let sampleBHigh = sampleB |\u003e Vector.map (fun x -\u003e 200. + x)\n",
"let sampleC = Vector.init 50 (fun x -\u003e 100. - float (x + 3 * error()))\n",
"let sampleD = Vector.init 50 (fun x -\u003e 100. + float (10 * error()))\n",
"\n",
"open Plotly.NET\n",
"\n",
"//Some axis styling\n",
"let myAxis title = Axis.LinearAxis.init(Title=title,Mirror=StyleParam.Mirror.All,Ticks=StyleParam.TickOptions.Inside,Showgrid=false,Showline=true,Zeroline=true)\n",
"let styleChart x y chart = chart |\u003e Chart.withX_Axis (myAxis x) |\u003e Chart.withY_Axis (myAxis y)\n",
"\n",
"let sampleChart =\n",
"    [\n",
"        Chart.Point(sampleA,sampleB,\"AB\")\n",
"        Chart.Point(sampleA,sampleC,\"AC\")\n",
"        Chart.Point(sampleA,sampleD,\"AD\")  \n",
"        Chart.Point(sampleA,sampleBHigh,\"AB+\")   \n",
"    ]\n",
"    |\u003e Chart.Combine\n",
"    |\u003e styleChart \"x\" \"y\"\n",
"    |\u003e Chart.withTitle \"test cases for covariance calculation\"\n"]
          }
,
          {
           "cell_type": "markdown",
           "metadata": {},
           
           "source": ["The [covariance](https://en.wikipedia.org/wiki/Covariance) of two samples describes the relationship of both variables. If one variable \n",
"tends to be high if its pair is high also, the covariance is positive. If on variable is low while its pair is high\n",
"the covariance is negative. If there is no (monotone) relationship between both variables, the covariance is zero. \n",
"\n",
"A positive covariance indicates a positive slope of a regression line, while a negative covariance indicates a negative slope.\n",
"If the total population is given the covPopulation without Bessel\u0027s correction can be calculated.\n",
"\n",
"$\\operatorname{cov}(X, Y) = \\operatorname{E}{\\big[(X - \\operatorname{E}[X])(Y - \\operatorname{E}[Y])\\big]}$\n",
"\n",
"_Note: The amplitude of covariance does not correlate with the slope, neither it correlates with the spread of the data points from the regression line._\n",
"\n",
"A standardized measure for how well the data lie on the regression line is given by correlation analyis. The pearson correlation coefficient\n",
"is defined as \n",
"\n",
"$\\rho_{X,Y}= \\frac{\\operatorname{cov}(X,Y)}{\\sigma_X \\sigma_Y}$\n",
"\n",
"**References:**\n",
"\n",
"- Fahrmeir L et al., Statistik - Der Weg zur Datenanalyse, 8. Auflage, doi 10.1007/978-3-662-50372-0\n",
"\n",
"`cov` and `covPopulation` are available as sequence (and other collections) extensions:\n",
"\n"]
          }
,
          {
           "cell_type": "code",
           "metadata": {},
            "execution_count": 4, "outputs": [], 
           "source": ["let covAB     = Vector.cov sampleA sampleB\n",
"let covAC     = Vector.cov sampleA sampleC\n",
"let covAD     = Vector.cov sampleA sampleD\n",
"let covABHigh = Vector.cov sampleA sampleBHigh\n",
"\n",
"let covPopAB     = Vector.covPopulation sampleA sampleB\n",
"let covPopAC     = Vector.covPopulation sampleA sampleC\n",
"let covPopAD     = Vector.covPopulation sampleA sampleD\n",
"let covPopABHigh = Vector.covPopulation sampleA sampleBHigh\n",
"\n",
"open Correlation\n",
"let pearsonAB     = Seq.pearson sampleA sampleB\n",
"let pearsonAC     = Seq.pearson sampleA sampleC\n",
"let pearsonAD     = Seq.pearson sampleA sampleD\n",
"let pearsonABHigh = Seq.pearson sampleA sampleBHigh\n"]
          }
,
          {
           "cell_type": "code",
           "metadata": {},
            "execution_count": null, "outputs": [
          {
           "data": {
            "text/html": ["\u003cdiv id=\"9d9f522c-61bd-4f2b-ace0-1145f8db21e2\" style=\"width: 600px; height: 600px;\"\u003e\u003c!-- Plotly chart will be drawn inside this DIV --\u003e\u003c/div\u003e",
"",
"\u003cscript type=\"text/javascript\"\u003e",
"",
"",
"            var renderPlotly_9d9f522c61bd4f2bace01145f8db21e2 = function() {",
"            var fsharpPlotlyRequire = requirejs.config({context:\u0027fsharp-plotly\u0027,paths:{plotly:\u0027https://cdn.plot.ly/plotly-latest.min\u0027}}) || require;",
"            fsharpPlotlyRequire([\u0027plotly\u0027], function(Plotly) {",
"",
"",
"            var data = [{\"type\":\"scatter\",\"x\":[0.0,1.0,2.0,3.0,4.0,5.0,6.0,7.0,8.0,9.0,10.0,11.0,12.0,13.0,14.0,15.0,16.0,17.0,18.0,19.0,20.0,21.0,22.0,23.0,24.0,25.0,26.0,27.0,28.0,29.0,30.0,31.0,32.0,33.0,34.0,35.0,36.0,37.0,38.0,39.0,40.0,41.0,42.0,43.0,44.0,45.0,46.0,47.0,48.0,49.0],\"y\":[0.0,6.0,4.0,8.0,11.0,5.0,13.0,11.0,17.0,19.0,10.0,13.0,21.0,14.0,24.0,25.0,17.0,23.0,22.0,23.0,26.0,27.0,27.0,27.0,29.0,27.0,28.0,35.0,29.0,33.0,35.0,38.0,35.0,43.0,35.0,38.0,46.0,40.0,45.0,41.0,44.0,44.0,50.0,50.0,51.0,47.0,50.0,52.0,56.0,53.0],\"mode\":\"markers\",\"name\":\"AB\",\"marker\":{}},{\"type\":\"scatter\",\"x\":[0.0,1.0,2.0,3.0,4.0,5.0,6.0,7.0,8.0,9.0,10.0,11.0,12.0,13.0,14.0,15.0,16.0,17.0,18.0,19.0,20.0,21.0,22.0,23.0,24.0,25.0,26.0,27.0,28.0,29.0,30.0,31.0,32.0,33.0,34.0,35.0,36.0,37.0,38.0,39.0,40.0,41.0,42.0,43.0,44.0,45.0,46.0,47.0,48.0,49.0],\"y\":[79.0,93.0,83.0,94.0,66.0,83.0,94.0,66.0,92.0,79.0,63.0,59.0,79.0,72.0,71.0,73.0,57.0,53.0,82.0,60.0,50.0,55.0,48.0,71.0,76.0,69.0,47.0,46.0,48.0,65.0,43.0,48.0,68.0,46.0,45.0,59.0,58.0,57.0,32.0,40.0,51.0,56.0,52.0,51.0,44.0,43.0,54.0,44.0,49.0,42.0],\"mode\":\"markers\",\"name\":\"AC\",\"marker\":{}},{\"type\":\"scatter\",\"x\":[0.0,1.0,2.0,3.0,4.0,5.0,6.0,7.0,8.0,9.0,10.0,11.0,12.0,13.0,14.0,15.0,16.0,17.0,18.0,19.0,20.0,21.0,22.0,23.0,24.0,25.0,26.0,27.0,28.0,29.0,30.0,31.0,32.0,33.0,34.0,35.0,36.0,37.0,38.0,39.0,40.0,41.0,42.0,43.0,44.0,45.0,46.0,47.0,48.0,49.0],\"y\":[140.0,150.0,140.0,100.0,150.0,200.0,120.0,130.0,110.0,180.0,160.0,110.0,100.0,190.0,160.0,110.0,200.0,160.0,180.0,120.0,110.0,170.0,200.0,140.0,140.0,180.0,150.0,180.0,190.0,160.0,120.0,150.0,170.0,150.0,180.0,130.0,130.0,200.0,120.0,180.0,100.0,190.0,110.0,120.0,110.0,110.0,100.0,140.0,160.0,120.0],\"mode\":\"markers\",\"name\":\"AD\",\"marker\":{}},{\"type\":\"scatter\",\"x\":[0.0,1.0,2.0,3.0,4.0,5.0,6.0,7.0,8.0,9.0,10.0,11.0,12.0,13.0,14.0,15.0,16.0,17.0,18.0,19.0,20.0,21.0,22.0,23.0,24.0,25.0,26.0,27.0,28.0,29.0,30.0,31.0,32.0,33.0,34.0,35.0,36.0,37.0,38.0,39.0,40.0,41.0,42.0,43.0,44.0,45.0,46.0,47.0,48.0,49.0],\"y\":[200.0,206.0,204.0,208.0,211.0,205.0,213.0,211.0,217.0,219.0,210.0,213.0,221.0,214.0,224.0,225.0,217.0,223.0,222.0,223.0,226.0,227.0,227.0,227.0,229.0,227.0,228.0,235.0,229.0,233.0,235.0,238.0,235.0,243.0,235.0,238.0,246.0,240.0,245.0,241.0,244.0,244.0,250.0,250.0,251.0,247.0,250.0,252.0,256.0,253.0],\"mode\":\"markers\",\"name\":\"AB+\",\"marker\":{}}];",
"            var layout = {\"xaxis\":{\"title\":\"x\",\"ticks\":\"inside\",\"mirror\":\"all\",\"showline\":true,\"showgrid\":false,\"zeroline\":true},\"yaxis\":{\"title\":\"y\",\"ticks\":\"inside\",\"mirror\":\"all\",\"showline\":true,\"showgrid\":false,\"zeroline\":true},\"title\":\"test cases for covariance calculation\"};",
"            var config = {};",
"            Plotly.newPlot(\u00279d9f522c-61bd-4f2b-ace0-1145f8db21e2\u0027, data, layout, config);",
"",
"});",
"            };",
"            if ((typeof(requirejs) !==  typeof(Function)) || (typeof(requirejs.config) !== typeof(Function))) {",
"                var script = document.createElement(\"script\");",
"                script.setAttribute(\"src\", \"https://cdnjs.cloudflare.com/ajax/libs/require.js/2.3.6/require.min.js\");",
"                script.onload = function(){",
"                    renderPlotly_9d9f522c61bd4f2bace01145f8db21e2();",
"                };",
"                document.getElementsByTagName(\"head\")[0].appendChild(script);",
"            }",
"            else {",
"                renderPlotly_9d9f522c61bd4f2bace01145f8db21e2();",
"            }",
"",
"\u003c/script\u003e",
"",
""]
        },
           "execution_count": null,
           "metadata": {},
           "output_type": "execute_result"
          },

          {
           "data": {
            "text/plain": ["\"Covariance of the presented four test cases",
"",
"AB (blue)   cov: 215.52    covPopulation: 211.21   pearson: 0.981",
"",
"AC (orange) cov: -179.6    covPopulation: -176.0   pearson: -0.77",
"",
"AD (green)  cov: -41.43    covPopulation: -40.60   pearson: -0.090",
"",
"AB+(red)    cov: 215.52    covPopulation: 211.21   pearson: 0.981\""]
        },
           "execution_count": null,
           "metadata": {},
           "output_type": "execute_result"
          }], 
           "source": ["sampleChart\n"]
          }],
            "metadata": {
            "kernelspec": {"display_name": ".NET (F#)", "language": "F#", "name": ".net-fsharp"},
            "langauge_info": {
        "file_extension": ".fs",
        "mimetype": "text/x-fsharp",
        "name": "C#",
        "pygments_lexer": "fsharp",
        "version": "4.5"
        }
        },
            "nbformat": 4,
            "nbformat_minor": 1
        }
        

