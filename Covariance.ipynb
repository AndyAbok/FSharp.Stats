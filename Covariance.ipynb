
        {
            "cells": [
          {
           "cell_type": "code",
           "metadata": {},
            "execution_count": null, "outputs": [], 
           "source": ["#r \"nuget: Plotly.NET, 2.0.0-beta8\"\n",
"#r \"nuget: Plotly.NET.Interactive, 2.0.0-beta8\"\n",
"#r \"nuget: FSharp.Stats\"\n"]
          }
,
          {
           "cell_type": "markdown",
           "metadata": {},
           
           "source": ["#Covariance\n",
"\n",
"[![Binder](https://mybinder.org/badge_logo.svg)](https://mybinder.org/v2/gh/fslaborg/FSharp.Stats/gh-pages?filepath=Covariance\n",
".ipynb)\n",
"\n",
"_Summary:_ This tutorial explains how to investigate the covariance of two samples with FSharp.Stats\n",
"\n",
"Lets first define some sample data:\n"]
          }
,
          {
           "cell_type": "code",
           "metadata": {},
            "execution_count": 3, "outputs": [], 
           "source": ["open FSharp.Stats\n",
"\n",
"let rnd = System.Random()\n",
"let error() = rnd.Next(11)\n",
"\n",
"let sampleA = Vector.init 50 (fun x -\u003e float x)\n",
"let sampleB = Vector.init 50 (fun x -\u003e float (x + error()))\n",
"let sampleBHigh = sampleB |\u003e Vector.map (fun x -\u003e 200. + x)\n",
"let sampleC = Vector.init 50 (fun x -\u003e 100. - float (x + 3 * error()))\n",
"let sampleD = Vector.init 50 (fun x -\u003e 100. + float (10 * error()))\n",
"\n",
"open Plotly.NET\n",
"\n",
"//Some axis styling\n",
"let myAxis title = Axis.LinearAxis.init(Title=title,Mirror=StyleParam.Mirror.All,Ticks=StyleParam.TickOptions.Inside,Showgrid=false,Showline=true,Zeroline=true)\n",
"let styleChart x y chart = chart |\u003e Chart.withX_Axis (myAxis x) |\u003e Chart.withY_Axis (myAxis y)\n",
"\n",
"let sampleChart =\n",
"    [\n",
"        Chart.Point(sampleA,sampleB,\"AB\")\n",
"        Chart.Point(sampleA,sampleC,\"AC\")\n",
"        Chart.Point(sampleA,sampleD,\"AD\")  \n",
"        Chart.Point(sampleA,sampleBHigh,\"AB+\")   \n",
"    ]\n",
"    |\u003e Chart.Combine\n",
"    |\u003e styleChart \"x\" \"y\"\n",
"    |\u003e Chart.withTitle \"test cases for covariance calculation\"\n"]
          }
,
          {
           "cell_type": "markdown",
           "metadata": {},
           
           "source": ["The [covariance](https://en.wikipedia.org/wiki/Covariance) of two samples describes the relationship of both variables. If one variable \n",
"tends to be high if its pair is high also, the covariance is positive. If on variable is low while its pair is high\n",
"the covariance is negative. If there is no (monotone) relationship between both variables, the covariance is zero. \n",
"\n",
"A positive covariance indicates a positive slope of a regression line, while a negative covariance indicates a negative slope.\n",
"If the total population is given the covPopulation without Bessel\u0027s correction can be calculated.\n",
"\n",
"$\\operatorname{cov}(X, Y) = \\operatorname{E}{\\big[(X - \\operatorname{E}[X])(Y - \\operatorname{E}[Y])\\big]}$\n",
"\n",
"_Note: The amplitude of covariance does not correlate with the slope, neither it correlates with the spread of the data points from the regression line._\n",
"\n",
"A standardized measure for how well the data lie on the regression line is given by correlation analysis. The pearson correlation coefficient\n",
"is defined as \n",
"\n",
"$\\rho_{X,Y}= \\frac{\\operatorname{cov}(X,Y)}{\\sigma_X \\sigma_Y}$\n",
"\n",
"**References:**\n",
"\n",
"- Fahrmeir L et al., Statistik - Der Weg zur Datenanalyse, 8. Auflage, doi 10.1007/978-3-662-50372-0\n",
"\n",
"`cov` and `covPopulation` are available as sequence (and other collections) extensions:\n",
"\n"]
          }
,
          {
           "cell_type": "code",
           "metadata": {},
            "execution_count": 4, "outputs": [], 
           "source": ["let covAB     = Vector.cov sampleA sampleB\n",
"let covAC     = Vector.cov sampleA sampleC\n",
"let covAD     = Vector.cov sampleA sampleD\n",
"let covABHigh = Vector.cov sampleA sampleBHigh\n",
"\n",
"let covPopAB     = Vector.covPopulation sampleA sampleB\n",
"let covPopAC     = Vector.covPopulation sampleA sampleC\n",
"let covPopAD     = Vector.covPopulation sampleA sampleD\n",
"let covPopABHigh = Vector.covPopulation sampleA sampleBHigh\n",
"\n",
"open Correlation\n",
"let pearsonAB     = Seq.pearson sampleA sampleB\n",
"let pearsonAC     = Seq.pearson sampleA sampleC\n",
"let pearsonAD     = Seq.pearson sampleA sampleD\n",
"let pearsonABHigh = Seq.pearson sampleA sampleBHigh\n"]
          }
,
          {
           "cell_type": "code",
           "metadata": {},
            "execution_count": null, "outputs": [
          {
           "data": {
            "text/html": ["\u003cdiv id=\"31f274c5-46c0-4e1e-9f1d-a8bedd2d3bed\" style=\"width: 600px; height: 600px;\"\u003e\u003c!-- Plotly chart will be drawn inside this DIV --\u003e\u003c/div\u003e",
"",
"\u003cscript type=\"text/javascript\"\u003e",
"",
"",
"            var renderPlotly_31f274c546c04e1e9f1da8bedd2d3bed = function() {",
"            var fsharpPlotlyRequire = requirejs.config({context:\u0027fsharp-plotly\u0027,paths:{plotly:\u0027https://cdn.plot.ly/plotly-latest.min\u0027}}) || require;",
"            fsharpPlotlyRequire([\u0027plotly\u0027], function(Plotly) {",
"",
"",
"            var data = [{\"type\":\"scatter\",\"x\":[0.0,1.0,2.0,3.0,4.0,5.0,6.0,7.0,8.0,9.0,10.0,11.0,12.0,13.0,14.0,15.0,16.0,17.0,18.0,19.0,20.0,21.0,22.0,23.0,24.0,25.0,26.0,27.0,28.0,29.0,30.0,31.0,32.0,33.0,34.0,35.0,36.0,37.0,38.0,39.0,40.0,41.0,42.0,43.0,44.0,45.0,46.0,47.0,48.0,49.0],\"y\":[2.0,1.0,6.0,8.0,14.0,11.0,15.0,9.0,15.0,11.0,17.0,11.0,16.0,14.0,15.0,17.0,22.0,22.0,22.0,28.0,24.0,29.0,32.0,30.0,27.0,31.0,36.0,37.0,33.0,29.0,34.0,33.0,34.0,39.0,41.0,41.0,41.0,38.0,45.0,46.0,50.0,48.0,45.0,45.0,54.0,55.0,51.0,50.0,51.0,53.0],\"mode\":\"markers\",\"name\":\"AB\",\"marker\":{}},{\"type\":\"scatter\",\"x\":[0.0,1.0,2.0,3.0,4.0,5.0,6.0,7.0,8.0,9.0,10.0,11.0,12.0,13.0,14.0,15.0,16.0,17.0,18.0,19.0,20.0,21.0,22.0,23.0,24.0,25.0,26.0,27.0,28.0,29.0,30.0,31.0,32.0,33.0,34.0,35.0,36.0,37.0,38.0,39.0,40.0,41.0,42.0,43.0,44.0,45.0,46.0,47.0,48.0,49.0],\"y\":[73.0,99.0,77.0,97.0,75.0,80.0,94.0,72.0,89.0,79.0,69.0,59.0,67.0,69.0,62.0,73.0,57.0,59.0,67.0,63.0,59.0,64.0,51.0,56.0,49.0,54.0,62.0,49.0,48.0,59.0,70.0,51.0,50.0,64.0,60.0,56.0,46.0,60.0,32.0,58.0,45.0,32.0,58.0,51.0,56.0,55.0,54.0,32.0,37.0,36.0],\"mode\":\"markers\",\"name\":\"AC\",\"marker\":{}},{\"type\":\"scatter\",\"x\":[0.0,1.0,2.0,3.0,4.0,5.0,6.0,7.0,8.0,9.0,10.0,11.0,12.0,13.0,14.0,15.0,16.0,17.0,18.0,19.0,20.0,21.0,22.0,23.0,24.0,25.0,26.0,27.0,28.0,29.0,30.0,31.0,32.0,33.0,34.0,35.0,36.0,37.0,38.0,39.0,40.0,41.0,42.0,43.0,44.0,45.0,46.0,47.0,48.0,49.0],\"y\":[110.0,180.0,190.0,180.0,170.0,140.0,120.0,100.0,110.0,200.0,110.0,130.0,190.0,170.0,140.0,110.0,130.0,160.0,140.0,140.0,190.0,170.0,180.0,140.0,100.0,190.0,150.0,170.0,160.0,190.0,170.0,170.0,130.0,130.0,130.0,130.0,180.0,190.0,140.0,190.0,110.0,150.0,100.0,100.0,100.0,120.0,100.0,130.0,180.0,200.0],\"mode\":\"markers\",\"name\":\"AD\",\"marker\":{}},{\"type\":\"scatter\",\"x\":[0.0,1.0,2.0,3.0,4.0,5.0,6.0,7.0,8.0,9.0,10.0,11.0,12.0,13.0,14.0,15.0,16.0,17.0,18.0,19.0,20.0,21.0,22.0,23.0,24.0,25.0,26.0,27.0,28.0,29.0,30.0,31.0,32.0,33.0,34.0,35.0,36.0,37.0,38.0,39.0,40.0,41.0,42.0,43.0,44.0,45.0,46.0,47.0,48.0,49.0],\"y\":[202.0,201.0,206.0,208.0,214.0,211.0,215.0,209.0,215.0,211.0,217.0,211.0,216.0,214.0,215.0,217.0,222.0,222.0,222.0,228.0,224.0,229.0,232.0,230.0,227.0,231.0,236.0,237.0,233.0,229.0,234.0,233.0,234.0,239.0,241.0,241.0,241.0,238.0,245.0,246.0,250.0,248.0,245.0,245.0,254.0,255.0,251.0,250.0,251.0,253.0],\"mode\":\"markers\",\"name\":\"AB+\",\"marker\":{}}];",
"            var layout = {\"xaxis\":{\"title\":\"x\",\"ticks\":\"inside\",\"mirror\":\"all\",\"showline\":true,\"showgrid\":false,\"zeroline\":true},\"yaxis\":{\"title\":\"y\",\"ticks\":\"inside\",\"mirror\":\"all\",\"showline\":true,\"showgrid\":false,\"zeroline\":true},\"title\":\"test cases for covariance calculation\"};",
"            var config = {};",
"            Plotly.newPlot(\u002731f274c5-46c0-4e1e-9f1d-a8bedd2d3bed\u0027, data, layout, config);",
"",
"});",
"            };",
"            if ((typeof(requirejs) !==  typeof(Function)) || (typeof(requirejs.config) !== typeof(Function))) {",
"                var script = document.createElement(\"script\");",
"                script.setAttribute(\"src\", \"https://cdnjs.cloudflare.com/ajax/libs/require.js/2.3.6/require.min.js\");",
"                script.onload = function(){",
"                    renderPlotly_31f274c546c04e1e9f1da8bedd2d3bed();",
"                };",
"                document.getElementsByTagName(\"head\")[0].appendChild(script);",
"            }",
"            else {",
"                renderPlotly_31f274c546c04e1e9f1da8bedd2d3bed();",
"            }",
"",
"\u003c/script\u003e",
"",
""]
        },
           "execution_count": null,
           "metadata": {},
           "output_type": "execute_result"
          },

          {
           "data": {
            "text/plain": ["\"Covariance of the presented four test cases",
"",
"AB (blue)   cov: 218.71    covPopulation: 214.34   pearson: 0.980",
"",
"AC (orange) cov: -181.1    covPopulation: -177.4   pearson: -0.80",
"",
"AD (green)  cov: -43.78    covPopulation: -42.90   pearson: -0.093",
"",
"AB+(red)    cov: 218.71    covPopulation: 214.34   pearson: 0.980\""]
        },
           "execution_count": null,
           "metadata": {},
           "output_type": "execute_result"
          }], 
           "source": ["sampleChart\n"]
          }],
            "metadata": {
            "kernelspec": {"display_name": ".NET (F#)", "language": "F#", "name": ".net-fsharp"},
            "langauge_info": {
        "file_extension": ".fs",
        "mimetype": "text/x-fsharp",
        "name": "C#",
        "pygments_lexer": "fsharp",
        "version": "4.5"
        }
        },
            "nbformat": 4,
            "nbformat_minor": 1
        }
        

