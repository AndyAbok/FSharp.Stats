
        {
            "cells": [
          {
           "cell_type": "code",
           "metadata": {},
            "execution_count": null, "outputs": [], 
           "source": ["#r \"nuget: Plotly.NET, 2.0.0-beta3\"\n",
"#r \"nuget: Plotly.NET.Interactive, 2.0.0-beta3\"\n",
"#r \"nuget: FSharp.Stats\"\n"]
          }
,
          {
           "cell_type": "markdown",
           "metadata": {},
           
           "source": ["# Correlation\n",
"\n",
"[![Binder](https://mybinder.org/badge_logo.svg)](https://mybinder.org/v2/gh/fslaborg/FSharp.Stats/gh-pages?filepath=Correlation.ipynb)\n",
"\n",
"_Summary_: This tutorial demonstrates how to autocorrelate a signal in FSharp.Stats\n",
"\n",
"### Table of contents\n",
"\n",
" - [Autocorrelation](#Autocorrelation)\n",
"\n",
"## Autocorrelation\n",
"\n",
"[Autocorrelation](https://en.wikipedia.org/wiki/Autocorrelation), also known as serial correlation, is the correlation of a signal with a delayed copy of itself as a function of delay. \n",
"Informally, it is the similarity between observations as a function of the time lag between them. \n",
"The analysis of autocorrelation is a mathematical tool for finding repeating patterns, such as the presence of a periodic signal obscured by noise, or identifying the missing fundamental frequency in a signal implied by its harmonic frequencies.\n",
"\n"]
          }
,
          {
           "cell_type": "code",
           "metadata": {},
            "execution_count": 3, "outputs": [], 
           "source": ["open FSharp.Stats\n",
"open FSharp.Stats.Distributions\n",
"open FSharp.Stats.Distributions.Continuous\n",
"open FSharp.Stats.Correlation\n",
"\n",
"let lags = [0..100]\n",
"let x = [0. .. 100.]\n",
"\n",
"//// Autocorrelation of a gaussian signal\n",
"let gaussPDF = Normal.PDF 10. 2.\n",
"let yGauss = x |\u003e List.map gaussPDF |\u003e vector\n",
"\n",
"let autoCorrGauss = lags |\u003e List.map (fun lag -\u003e autoCorrelation lag yGauss)\n",
"\n",
"open Plotly.NET\n",
"\n",
"let gaussAC =\n",
"    Chart.Point(lags,autoCorrGauss)\n",
"    |\u003e Chart.withTraceName \"Autocorrelation\"\n",
"    |\u003e Chart.withTitle \"Autocorrelation of a gaussian sine wave\"\n",
"    |\u003e fun c -\u003e Chart.Stack 1 [Chart.Point(x,yGauss,Name=\"gaussian\");c]\n"]
          }
,
          {
           "cell_type": "code",
           "metadata": {},
            "execution_count": null, "outputs": [
          {
           "data": {
            "text/html": ["\u003cdiv id=\"5ca71f2a-2559-4925-a41c-a694a8a120e9\" style=\"width: 600px; height: 600px;\"\u003e\u003c!-- Plotly chart will be drawn inside this DIV --\u003e\u003c/div\u003e",
"",
"\u003cscript type=\"text/javascript\"\u003e",
"",
"",
"            var renderPlotly_5ca71f2a25594925a41ca694a8a120e9 = function() {",
"            var fsharpPlotlyRequire = requirejs.config({context:\u0027fsharp-plotly\u0027,paths:{plotly:\u0027https://cdn.plot.ly/plotly-latest.min\u0027}}) || require;",
"            fsharpPlotlyRequire([\u0027plotly\u0027], function(Plotly) {",
"",
"",
"            var data = [{\"type\":\"scatter\",\"x\":[0.0,1.0,2.0,3.0,4.0,5.0,6.0,7.0,8.0,9.0,10.0,11.0,12.0,13.0,14.0,15.0,16.0,17.0,18.0,19.0,20.0,21.0,22.0,23.0,24.0,25.0,26.0,27.0,28.0,29.0,30.0,31.0,32.0,33.0,34.0,35.0,36.0,37.0,38.0,39.0,40.0,41.0,42.0,43.0,44.0,45.0,46.0,47.0,48.0,49.0,50.0,51.0,52.0,53.0,54.0,55.0,56.0,57.0,58.0,59.0,60.0,61.0,62.0,63.0,64.0,65.0,66.0,67.0,68.0,69.0,70.0,71.0,72.0,73.0,74.0,75.0,76.0,77.0,78.0,79.0,80.0,81.0,82.0,83.0,84.0,85.0,86.0,87.0,88.0,89.0,90.0,91.0,92.0,93.0,94.0,95.0,96.0,97.0,98.0,99.0,100.0],\"y\":[7.433597573671489E-07,7.991870553452739E-06,6.691511288244268E-05,0.0004363413475228801,0.0022159242059690038,0.00876415024678427,0.02699548325659403,0.06475879783294587,0.12098536225957168,0.17603266338214976,0.19947114020071635,0.17603266338214976,0.12098536225957168,0.06475879783294587,0.02699548325659403,0.00876415024678427,0.0022159242059690038,0.0004363413475228801,6.691511288244268E-05,7.991870553452739E-06,7.433597573671489E-07,5.384880021271638E-08,3.037941424911643E-09,1.334778307381426E-10,4.567360204182298E-12,1.217160266514505E-13,2.5261355417684464E-15,4.083117815834776E-17,5.139886785834458E-19,5.038967697150006E-21,3.84729931335321E-23,2.287687795260403E-25,1.0594096267546769E-27,3.820827705793602E-30,1.0731918678315302E-32,2.3475976789875732E-35,3.9994138785034063E-38,5.306344069576081E-41,5.483032796944856E-44,4.412377487297412E-47,2.765354774922208E-50,1.3497565122942938E-53,5.130815363959518E-57,1.5189508493949616E-60,3.502091067159291E-64,6.288361914390969E-68,8.79374771297552E-72,9.577162458359679E-76,8.12318018386804E-80,5.365889170341327E-84,2.760474181079882E-88,1.1059921901052853E-92,3.451014710063611E-97,8.386252614271959E-102,1.5871407764126314E-106,2.3393184086250235E-111,2.6852801825102964E-116,2.400580392953441E-121,1.671357220897229E-126,9.062513967757625E-132,3.8269648682096966E-137,1.2585968525967026E-142,3.2236299856989265E-148,6.430283370356847E-154,9.989446295841398E-160,1.208590289309775E-165,1.1387887393683306E-171,8.3566768256504E-178,4.775847270974419E-184,2.1256591767637757E-190,7.368230674392738E-197,1.9891117136410602E-203,4.1819758029282314E-210,6.847471540398837E-217,8.731831283793884E-224,8.671751318032179E-231,6.707098336747181E-238,4.040070206936223E-245,1.895263200046434E-252,6.924310391689679E-260,1.970198138568012E-267,4.365858550310256E-275,7.534523588101973E-283,1.0126708581058732E-290,1.060003275762303E-298,8.641168661420527E-307,5.48610526E-315,3E-323,0.0,0.0,0.0,0.0,0.0,0.0,0.0,0.0,0.0,0.0,0.0,0.0,0.0],\"mode\":\"markers\",\"name\":\"gaussian\",\"marker\":{},\"xaxis\":\"x\",\"yaxis\":\"y\"},{\"type\":\"scatter\",\"x\":[0,1,2,3,4,5,6,7,8,9,10,11,12,13,14,15,16,17,18,19,20,21,22,23,24,25,26,27,28,29,30,31,32,33,34,35,36,37,38,39,40,41,42,43,44,45,46,47,48,49,50,51,52,53,54,55,56,57,58,59,60,61,62,63,64,65,66,67,68,69,70,71,72,73,74,75,76,77,78,79,80,81,82,83,84,85,86,87,88,89,90,91,92,93,94,95,96,97,98,99,100],\"y\":[0.9999999999999999,0.9347897827519189,0.7617379661845497,0.5362342140887209,0.31806171989160137,0.14677327821664493,0.03415717794862273,-0.02785148249180702,-0.05479116041301767,-0.06165676567176017,-0.059580540565227894,-0.054902944661785844,-0.05027912338905208,-0.04647778009840973,-0.043561732475584404,-0.041397623992749606,-0.03982824173952524,-0.038718929892754654,-0.03796419134151229,-0.037483746983418845,-0.037216972509265416,-0.03711805809907017,-0.037152267781106946,-0.037293158414502814,-0.03752053347956075,-0.03781893558309656,-0.03817652904747901,-0.03858426521307369,-0.03903525404420531,-0.03952428768291834,-0.04004747703000092,-0.040601973213548616,-0.0411857533794871,-0.041797455612750146,-0.042436251656484465,-0.043101748901742856,-0.043793915184325787,-0.04451302146201744,-0.045259598601513504,-0.04603440538260865,-0.04683840550050807,-0.04767275186778394,-0.04853877692368208,-0.04943798797843274,-0.0503720668751103,-0.0513428734575453,-0.052352452502283583,-0.05340304391542207,-0.054497096119234915,-0.05563728266537815,-0.05682652221676089,-0.05806800214395919,-0.059365206089151974,-0.060721945965834745,-0.062142398991217006,-0.06363115049608084,-0.06519324343084784,-0.06683423569501828,-0.06856026667041984,-0.0703781346500551,-0.07229538724082159,-0.07432042730226346,-0.07646263759418169,-0.07873252808254604,-0.08114196593652137,-1.0,-1.0,-1.0,-1.0,-1.0,-1.0,-1.0,-1.0,-1.0,-1.0,-1.0,-1.0,-1.0,-1.0,-1.0,-1.0,-1.0,-1.0,-1.0,-1.0,-1.0,-1.0,-1.0,\"NaN\",\"NaN\",\"NaN\",\"NaN\",\"NaN\",\"NaN\",\"NaN\",\"NaN\",\"NaN\",\"NaN\",\"NaN\",\"NaN\",\"NaN\"],\"mode\":\"markers\",\"marker\":{},\"name\":\"Autocorrelation\",\"xaxis\":\"x2\",\"yaxis\":\"y2\"}];",
"            var layout = {\"xaxis\":{\"anchor\":\"y\",\"domain\":[0.0,0.95]},\"yaxis\":{\"anchor\":\"x\",\"domain\":[0.55,1.0]},\"title\":\"Autocorrelation of a gaussian sine wave\",\"xaxis2\":{\"anchor\":\"y2\",\"domain\":[0.0,0.95]},\"yaxis2\":{\"anchor\":\"x2\",\"domain\":[0.050000000000000044,0.5]}};",
"            var config = {};",
"            Plotly.newPlot(\u00275ca71f2a-2559-4925-a41c-a694a8a120e9\u0027, data, layout, config);",
"",
"});",
"            };",
"            if ((typeof(requirejs) !==  typeof(Function)) || (typeof(requirejs.config) !== typeof(Function))) {",
"                var script = document.createElement(\"script\");",
"                script.setAttribute(\"src\", \"https://cdnjs.cloudflare.com/ajax/libs/require.js/2.3.6/require.min.js\");",
"                script.onload = function(){",
"                    renderPlotly_5ca71f2a25594925a41ca694a8a120e9();",
"                };",
"                document.getElementsByTagName(\"head\")[0].appendChild(script);",
"            }",
"            else {",
"                renderPlotly_5ca71f2a25594925a41ca694a8a120e9();",
"            }",
"",
"\u003c/script\u003e",
"",
""]
        },
           "execution_count": null,
           "metadata": {},
           "output_type": "execute_result"
          }], 
           "source": ["gaussAC\n"]
          }],
            "metadata": {
            "kernelspec": {"display_name": ".NET (F#)", "language": "F#", "name": ".net-fsharp"},
            "langauge_info": {
        "file_extension": ".fs",
        "mimetype": "text/x-fsharp",
        "name": "C#",
        "pygments_lexer": "fsharp",
        "version": "4.5"
        }
        },
            "nbformat": 4,
            "nbformat_minor": 1
        }
        

